{
 "cells": [
  {
   "cell_type": "markdown",
   "metadata": {
    "nbgrader": {
     "grade": false,
     "locked": true,
     "solution": false
    }
   },
   "source": [
    "<h2>Project 0: Python Basics</h2>"
   ]
  },
  {
   "cell_type": "markdown",
   "metadata": {
    "nbgrader": {
     "grade": false,
     "locked": true,
     "solution": false
    }
   },
   "source": [
    "<h3>Introduction</h3>\n",
    "\n",
    "<p>In this project, you will write a function to compute Euclidean distances between sets of vectors and get familiar with the Vocareum system that we will be using this semester. </p>\n",
    "\n",
    "<p><strong>Academic Integrity:</strong> We will be checking your code against other submissions in the class for logical redundancy. If you copy someone else's code and submit it with minor changes, we will know. These cheat detectors are quite hard to fool, so please don't try. We trust you all to submit your own work only; <em>please</em> don't let us down. If you do, we will pursue the strongest consequences available to us.\n",
    "\n",
    "<p><strong>Getting Help:</strong> You are not alone!  If you find yourself stuck  on something, contact the course staff for help.  Office hours, section, and the <a href=\"https://edstem.org/us/courses/19541/discussion/\">Ed Discussion</a> are there for your support; please use them.  If you can't make our office hours, let us know and we will schedule more.  We want these projects to be rewarding and instructional, not frustrating and demoralizing.  But, we don't know when or how to help unless you ask."
   ]
  },
  {
   "cell_type": "markdown",
   "metadata": {},
   "source": [
    "# Numpy\n",
    "In this and future projects should you choose you use python, you will make a great deal of use of the numpy package. Numpy is a package that contains many routines for fast matrix and vector operations. Behind the scenes, rather than executing slow Python code, numpy functions often execute code that is compiled and highly optimized.\n",
    "\n",
    "If you are not familiar with the Numpy package, you can read an overview of it <a href=\"https://numpy.org/doc/stable/user/quickstart.html/\">here</a>, and find a full API <a href=\"https://docs.scipy.org/doc/numpy/reference/\">here</a>. We import numpy for you below. Also, as a check, your Python version should be 3.x (for some value of x). "
   ]
  },
  {
   "cell_type": "code",
   "execution_count": 2,
   "metadata": {
    "nbgrader": {
     "grade": false,
     "locked": true,
     "solution": false
    }
   },
   "outputs": [
    {
     "name": "stdout",
     "output_type": "stream",
     "text": [
      "You're running python 3.7.5\n"
     ]
    }
   ],
   "source": [
    "#<GRADED>\n",
    "import sys\n",
    "import numpy as np # Numpy is Python's built in library for matrix operations.\n",
    "                   # We will be using it a lot in this class!\n",
    "#<GRADED>\n",
    "from pylab import * \n",
    "print('You\\'re running python %s' % sys.version.split(' ')[0])"
   ]
  },
  {
   "cell_type": "markdown",
   "metadata": {
    "nbgrader": {
     "grade": false,
     "locked": true,
     "solution": false
    }
   },
   "source": [
    "\n",
    "<h3> Euclidean distances in Python </h3>\n",
    "\n",
    "<p>Many machine learning algorithms access their input data primarily through pairwise (Euclidean) distances. It is therefore important that we have a fast function that computes pairwise distances of input vectors. </p>\n",
    "<p>Assume we have $n$ data vectors $\\vec x_1,\\dots,\\vec x_n\\in{\\cal R}^d$ and $m$ vectors $\\vec z_1,\\dots,z_m\\in{\\cal R}^d$. With these data vectors, let us define two matrices $X=[\\vec x_1,\\dots,\\vec x_n]\\in{\\cal R}^{n\\times d}$, where the $i^{th}$ row is a vector $\\vec x_i$ and similarly $Z=[\\vec z_1,\\dots,\\vec z_m]\\in{\\cal R}^{m\\times d}$. </p>\n",
    "<p>We want a distance function that takes as input these two matrices $X$ and $Z$ and outputs a matrix $D\\in{\\cal R}^{n\\times m}$, where \n",
    "\t$$D_{ij}=\\sqrt{(\\vec x_i-\\vec z_j)(\\vec x_i-\\vec z_j)^\\top}.$$\n",
    "</p>"
   ]
  },
  {
   "cell_type": "markdown",
   "metadata": {
    "nbgrader": {
     "grade": false,
     "locked": true,
     "solution": false
    }
   },
   "source": [
    "A naïve implementation to compute pairwise distances may look like the code below:"
   ]
  },
  {
   "cell_type": "code",
   "execution_count": 4,
   "metadata": {
    "collapsed": true,
    "nbgrader": {
     "grade": false,
     "grade_id": "test1",
     "locked": true,
     "points": "2",
     "solution": false
    }
   },
   "outputs": [],
   "source": [
    "def l2distanceSlow(X,Z=None):\n",
    "    if Z is None:\n",
    "        Z = X\n",
    "    \n",
    "    n, d = X.shape     # dimension of X\n",
    "    m= Z.shape[0]   # dimension of Z\n",
    "    D=np.zeros((n,m)) # allocate memory for the output matrix\n",
    "    for i in range(n):     # loop over vectors in X\n",
    "        for j in range(m): # loop over vectors in Z\n",
    "            D[i,j]=0.0; \n",
    "            for k in range(d): # loop over dimensions\n",
    "                D[i,j]=D[i,j]+(X[i,k]-Z[j,k])**2; # compute l2-distance between the ith and jth vector\n",
    "            D[i,j]=np.sqrt(D[i,j]); # take square root\n",
    "    return D"
   ]
  },
  {
   "cell_type": "markdown",
   "metadata": {
    "nbgrader": {
     "grade": false,
     "locked": true,
     "solution": false
    }
   },
   "source": [
    "Please read through the code carefully and make sure you understand it. It is perfectly correct and will produce the correct result ... eventually. To see what is wrong, try running the l2distanceSlow code on an extremely small matrix X:\n"
   ]
  },
  {
   "cell_type": "code",
   "execution_count": 3,
   "metadata": {
    "nbgrader": {
     "grade": false,
     "locked": false,
     "solution": false
    }
   },
   "outputs": [
    {
     "name": "stdout",
     "output_type": "stream",
     "text": [
      "Running the naive version for the first time ...\n",
      "CPU times: user 37.7 s, sys: 0 ns, total: 37.7 s\n",
      "Wall time: 37.7 s\n",
      "[[0.37318099 0.63294288 0.07383001 ... 0.66996739 0.2851548  0.82671204]\n",
      " [0.31270901 0.07983972 0.79550125 ... 0.8682488  0.08851161 0.739488  ]\n",
      " [0.1532665  0.75312346 0.57018087 ... 0.83238557 0.80936497 0.71575434]\n",
      " ...\n",
      " [0.95619608 0.10157759 0.13495643 ... 0.07545478 0.3592968  0.23113981]\n",
      " [0.62193779 0.5781915  0.59193453 ... 0.25288876 0.55021798 0.19868725]\n",
      " [0.35791746 0.62538315 0.52542582 ... 0.48980052 0.6682966  0.13698915]]\n"
     ]
    }
   ],
   "source": [
    "X=np.random.rand(700,100)\n",
    "print(\"Running the naive version for the first time ...\")\n",
    "%time Dslow=l2distanceSlow(X)\n",
    "print(X)"
   ]
  },
  {
   "cell_type": "markdown",
   "metadata": {
    "nbgrader": {
     "grade": false,
     "locked": true,
     "solution": false
    }
   },
   "source": [
    "This code defines some random data in $X$ and computes the corresponding distance matrix $D$. The <em>%time</em> statements time how long this takes. When I ran the code, the <em>l2distanceSlow</em> function took <strong>43.6s to run</strong>! \n",
    "\n",
    "This is an appallingly large amount of time for such a simple operation on a small amount of data, and writing code like this to deal with matrices in this class will result in code that takes <strong>days</strong> to run. \n",
    "\n",
    "\n",
    "<strong>As a general rule, you should avoid tight loops at all cost.</strong> As we will see in the remainder of this assignment, we can do much better by performing bulk matrix operations using the <em>numpy</em> package, which calls highly optimized compiled code behind the scenes.\n",
    "\n",
    "\n",
    "\n"
   ]
  },
  {
   "cell_type": "markdown",
   "metadata": {
    "nbgrader": {
     "grade": false,
     "locked": true,
     "solution": false
    }
   },
   "source": [
    "<h4> How to program in NumPy </h4>\n",
    "\n",
    "<p>Although there is an execution overhead per line in Python, matrix operations are extremely optimized and very fast. In order to successfully program in this course, you need to free yourself from \"for-loop\" thinking and start thinking in terms of matrix operations. Python for scientific computing can be very fast if almost all the time is spent in a few heavy duty matrix operations. In this assignment you will do this, and transform the function above into a few matrix operations <em>without any loops at all.</em> </p> \n",
    "\n",
    "<p>The key to efficient programming in Python for machine learning in general is to think about it in terms of mathematics, and not in terms of Loops. </p>\n",
    "\n",
    "<p>\t(a) Show that the Gram matrix (aka inner-product matrix)\n",
    "$$\tG_{ij}=\\mathbf{x}_i\\mathbf{z}_j^\\top $$\n",
    "can be expressed in terms of a pure matrix multiplication. Once you are done with the derivation, implement the function <strong><code>innerproduct</code></strong>.</p>\n"
   ]
  },
  {
   "cell_type": "markdown",
   "metadata": {},
   "source": [
    "__a) TODO: Please fill in your answer in this Markdown cell (double-click to edit)__\n",
    "\n",
    "            your answer goes here...\n",
    "            G is a matrix with index i and j\n",
    "            X is a vector with dimension d (belongs to R^nxd)\n",
    "            Z is a vector with dimension d (belongs to R^mxd)\n",
    "            Gij = Vector(Xi)*Vector(Zj)^T = Xi1*Zj1+....Xid*Zjd = <Vector(Xi),Vector(Zj)>\n",
    "            "
   ]
  },
  {
   "cell_type": "code",
   "execution_count": 3,
   "metadata": {
    "collapsed": true,
    "nbgrader": {
     "grade": false,
     "grade_id": "Correctness",
     "locked": false,
     "points": "5",
     "solution": false
    }
   },
   "outputs": [],
   "source": [
    "def innerproduct(X,Z=None):\n",
    "    # function innerproduct(X,Z)\n",
    "    #\n",
    "    # Computes the inner-product matrix.\n",
    "    # Syntax:\n",
    "    # D=innerproduct(X,Z)\n",
    "    # Input:\n",
    "    # X: nxd data matrix with n vectors (rows) of dimensionality d\n",
    "    # Z: mxd data matrix with m vectors (rows) of dimensionality d\n",
    "    #\n",
    "    # Output:\n",
    "    # Matrix G of size nxm\n",
    "    # G[i,j] is the inner-product between vectors X[i,:] and Z[j,:]\n",
    "    #\n",
    "    # call with only one input:\n",
    "    # innerproduct(X)=innerproduct(X,X)\n",
    "    #\n",
    "    if Z is None: # case when there is only one input (X)\n",
    "        Z=X;     \n",
    "    # your code goes here ...\n",
    "    G=X@Z.T\n",
    "    # until here \n",
    "    return G\n",
    "    raise NotImplementedError('Your code goes here!')"
   ]
  },
  {
   "cell_type": "markdown",
   "metadata": {
    "nbgrader": {
     "grade": false,
     "locked": true,
     "solution": false
    }
   },
   "source": [
    "If your code is correct you should pass the following two tests below. "
   ]
  },
  {
   "cell_type": "code",
   "execution_count": 5,
   "metadata": {
    "nbgrader": {
     "grade": false,
     "locked": false,
     "solution": false
    },
    "scrolled": true
   },
   "outputs": [
    {
     "name": "stdout",
     "output_type": "stream",
     "text": [
      "You passed test#1\n",
      "\n",
      "You passed test#2\n",
      "\n"
     ]
    }
   ],
   "source": [
    "# a simple test for the innerproduct function\n",
    "M=np.array([[1,2,3],[4,5,6],[7,8,9]])\n",
    "Q=np.array([[11,12,13],[14,15,16]])\n",
    "assert (all(diag(innerproduct(M))==[14,77,194])) # test1: Inner product with itself\n",
    "print(\"You passed test#1\\n\")\n",
    "assert (np.all(innerproduct(M,Q).T==np.array([[74,182,290],[92,227,362]])))\n",
    "print(\"You passed test#2\\n\")"
   ]
  },
  {
   "cell_type": "markdown",
   "metadata": {
    "nbgrader": {
     "grade": false,
     "locked": true,
     "solution": false
    }
   },
   "source": [
    "(b) Let us define two new matrices $S,R\\in{\\cal R}^{n\\times m}$ \n",
    "\t\t$$S_{ij}=\\mathbf{x}_i\\mathbf{x}_i^\\top, \\ \\ R_{ij}=\\mathbf{z}_j\\mathbf{z}_j^\\top.$$\n",
    " \tShow that the <em>squared</em>-euclidean matrix $D^2\\in{\\cal R}^{n\\times m}$, defined as\n",
    "\t\t$$D^2_{ij}=(\\mathbf{x}_i-\\mathbf{z}_j)(\\mathbf{x}_i-\\mathbf{z}_j)^\\top,$$\n",
    "\tcan be expressed as a linear combination of the matrix $S, G, R$. (Hint: It might help to first express $D^2_{ij}$ in terms of inner-products.) What do you need to do to obtain the true Euclidean distance matrix $D$?</p></td>\n",
    "<p>\n",
    "    \n",
    "Think about what the $S$ and $R$ matrices look like. You will find that the values in each row of $S$ and the values in each column of $R$ do not change! This is also apparent when considering that $S_{ij} = \\mathbf{x}_i \\mathbf{x}_i^\\top$ for all $j$ ; similar argument for $R_{ij} = \\mathbf{z}_j \\mathbf{z}_j^\\top$ for all $i$.\n",
    "$$\n",
    "S = \\begin{bmatrix}\n",
    "\\mathbf{x}_1 \\mathbf{x}_1^\\top & \\mathbf{x}_1 \\mathbf{x}_1^\\top & \\cdots & \\mathbf{x}_1 \\mathbf{x}_1^\\top\\\\\n",
    "\\mathbf{x}_2 \\mathbf{x}_2^\\top & \\mathbf{x}_2 \\mathbf{x}_2^\\top & \\cdots & \\mathbf{x}_2 \\mathbf{x}_2^\\top\\\\\n",
    "\\vdots & \\vdots & \\ddots & \\vdots\\\\\n",
    "\\mathbf{x}_n \\mathbf{x}_n^\\top & \\mathbf{x}_n \\mathbf{x}_n^\\top & \\cdots & \\mathbf{x}_n \\mathbf{x}_n^\\top\\\\\n",
    "\\end{bmatrix}, \\ \n",
    "R = \\begin{bmatrix}\n",
    "\\mathbf{z}_1 \\mathbf{z}_1^\\top & \\mathbf{z}_2 \\mathbf{z}_2^\\top & \\cdots & \\mathbf{z}_m \\mathbf{z}_m^\\top\\\\\n",
    "\\mathbf{z}_1 \\mathbf{z}_1^\\top & \\mathbf{z}_2 \\mathbf{z}_2^\\top & \\cdots & \\mathbf{z}_m \\mathbf{z}_m^\\top\\\\\n",
    "\\vdots & \\vdots & \\ddots & \\vdots\\\\\n",
    "\\mathbf{z}_1 \\mathbf{z}_1^\\top & \\mathbf{z}_2 \\mathbf{z}_2^\\top & \\cdots & \\mathbf{z}_m \\mathbf{z}_m^\\top\\\\\n",
    "\\end{bmatrix}.\n",
    "$$"
   ]
  },
  {
   "cell_type": "markdown",
   "metadata": {},
   "source": [
    "__b) TODO: Please fill in your answer in this Markdown cell (double-click to edit)__\n",
    "\n",
    "            your answer goes here...\n",
    "            As D^2 can be expressed as (Xi-Zj)(Xi-Zj)^T, which can be simplified as Xi^2-2XiZj+Zj^2,\n",
    "            because S = Xi^2, R = Zj^2, G = Xi*Zj^T\n",
    "            Thus, we can get D = sqrt(S+R-2G)"
   ]
  },
  {
   "cell_type": "markdown",
   "metadata": {
    "nbgrader": {
     "grade": false,
     "locked": true,
     "solution": false
    }
   },
   "source": [
    "<p>\t(c) Implement the function <strong><code>l2distance</code></strong>, which computes the Euclidean distance matrix $D$ without a single loop:\n",
    "   </p>\n",
    "<p><strong>Hint</strong>: Make sure that when you take the square root of the squared distance matrix, ensure that all entries are non-negative. Sometimes very small positive numbers can become negative due to numerical imprecision. Knowing that all distances must always be non-negative, you can simply overwrite all negative values as 0.0 to avoid unintended consequences </p>"
   ]
  },
  {
   "cell_type": "code",
   "execution_count": 1,
   "metadata": {
    "collapsed": true,
    "nbgrader": {
     "grade": false,
     "locked": false,
     "solution": false
    }
   },
   "outputs": [],
   "source": [
    "#<GRADED>\n",
    "def l2distance(X,Z=None):\n",
    "    # function D=l2distance(X,Z)\n",
    "    # Computes the Euclidean distance matrix.\n",
    "    # Syntax:\n",
    "    # D=l2distance(X,Z)\n",
    "    # Input:\n",
    "    # X: nxd data matrix with n vectors (rows) of dimensionality d\n",
    "    # Z: mxd data matrix with m vectors (rows) of dimensionality d\n",
    "    #\n",
    "    # Output:\n",
    "    # Matrix D of size nxm\n",
    "    # D(i,j) is the Euclidean distance of X(i,:) and Z(j,:)\n",
    "    #\n",
    "    # call with only one input:\n",
    "    # l2distance(X)=l2distance(X,X)\n",
    "    #\n",
    "\n",
    "    if Z is None:\n",
    "        Z=X;\n",
    "    n,d1=X.shape\n",
    "    m,d2=Z.shape\n",
    "    assert (d1==d2), \"Dimensions of input vectors must match!\"\n",
    "   \n",
    "    # Your code goes here ..\n",
    "    S = np.repeat(np.array(np.diag(X@X.T).reshape(n,1)),m,axis=1)\n",
    "    R = np.repeat(np.array(np.diag(Z@Z.T).reshape(1,m)),n,axis=0)\n",
    "    G = X@Z.T\n",
    "    D = sqrt(S + R - 2*G)\n",
    "    # ... until here\n",
    "    return D\n",
    "    raise NotImplementedError('Your code goes here!')\n",
    "#</GRADED>"
   ]
  },
  {
   "cell_type": "code",
   "execution_count": 5,
   "metadata": {},
   "outputs": [
    {
     "name": "stdout",
     "output_type": "stream",
     "text": [
      "(2, 2) (2, 2)\n",
      "The diagonal should be (more or less) all-zeros: [0. 0.]\n",
      "(2, 2) (2, 2)\n",
      "You passed l2distance test #1.\n",
      "(2, 5) (2, 5)\n",
      "The norm difference between the distance matrices should be very close to zero: 2.0014830212433605e-16\n",
      "You passed test #2.\n",
      "(1, 1) (1, 1)\n",
      "This distance between [0,1] and [1,0] should be about sqrt(2):  1.4142135623730951\n",
      "(1, 1) (1, 1)\n",
      "You passed l2distance test #3.\n"
     ]
    }
   ],
   "source": [
    "# Little test of the distance function\n",
    "X1=rand(2,3);\n",
    "print(\"The diagonal should be (more or less) all-zeros:\", diag(l2distance(X1,X1)))\n",
    "assert(all(diag(l2distance(X1,X1))<=1e-7))\n",
    "print(\"You passed l2distance test #1.\")\n",
    "\n",
    "X2=rand(5,3);\n",
    "Dslow=l2distanceSlow(X1,X2);\n",
    "Dfast=l2distance(X1,X2);\n",
    "print(\"The norm difference between the distance matrices should be very close to zero:\",norm(Dslow-Dfast))\n",
    "assert(norm(Dslow-Dfast)<1e-7)\n",
    "print(\"You passed test #2.\")\n",
    "\n",
    "x1=np.array([[0,1]])\n",
    "x2=np.array([[1,0]])\n",
    "x1.shape\n",
    "x2.shape\n",
    "print(\"This distance between [0,1] and [1,0] should be about sqrt(2): \",l2distance(x1,x2)[0,0])\n",
    "assert(norm(l2distance(x1,x2)[0,0]-sqrt(2))<1e-8)\n",
    "print(\"You passed l2distance test #3.\")"
   ]
  },
  {
   "cell_type": "markdown",
   "metadata": {
    "nbgrader": {
     "grade": false,
     "locked": true,
     "solution": false
    }
   },
   "source": [
    "Let us compare the speed of your l2-distance function against our previous naïve implementation:"
   ]
  },
  {
   "cell_type": "code",
   "execution_count": 8,
   "metadata": {
    "nbgrader": {
     "grade": false,
     "locked": false,
     "solution": false
    }
   },
   "outputs": [
    {
     "name": "stdout",
     "output_type": "stream",
     "text": [
      "Running the naïve version ...\n",
      "41095.00s\n",
      "Running the vectorized version ...\n",
      "39.00s\n",
      "The two method should deviate by very little 0.000000\n",
      "but your numpy code was 1053.72 times faster!\n"
     ]
    }
   ],
   "source": [
    "import time\n",
    "current_time = lambda: int(round(time.time() * 1000))\n",
    "\n",
    "X=np.random.rand(700,100)\n",
    "Z=np.random.rand(300,100)\n",
    "\n",
    "print(\"Running the naïve version ...\")\n",
    "before = current_time()\n",
    "Dslow=l2distanceSlow(X)\n",
    "after = current_time()\n",
    "t_slow = after - before\n",
    "print(\"{:2.2f}s\".format(t_slow))\n",
    "\n",
    "print(\"Running the vectorized version ...\")\n",
    "before = current_time()\n",
    "Dfast=l2distance(X)\n",
    "after = current_time()\n",
    "t_fast = after - before\n",
    "print(\"{:2.2f}s\".format(t_fast))\n",
    "\n",
    "\n",
    "speedup = t_slow / t_fast\n",
    "print(\"The two method should deviate by very little {:05.6f}\".format(norm(Dfast-Dslow)))\n",
    "print(\"but your numpy code was {:05.2f} times faster!\".format(speedup))"
   ]
  },
  {
   "cell_type": "markdown",
   "metadata": {
    "nbgrader": {
     "grade": false,
     "locked": true,
     "solution": false
    }
   },
   "source": [
    "How much faster is your code now? With this implementation you should easily be able to compute the distances between <strong>many more</strong> vectors. You can easily see how, even for small datasets, the for-loop based implementation could take several days or even weeks to perform basic operations that take seconds or minutes with well-written numpy code."
   ]
  },
  {
   "cell_type": "code",
   "execution_count": null,
   "metadata": {
    "collapsed": true
   },
   "outputs": [],
   "source": []
  },
  {
   "cell_type": "code",
   "execution_count": null,
   "metadata": {
    "collapsed": true
   },
   "outputs": [],
   "source": []
  }
 ],
 "metadata": {
  "anaconda-cloud": {},
  "kernelspec": {
   "display_name": "Python 3 (ipykernel)",
   "language": "python",
   "name": "python3"
  },
  "language_info": {
   "codemirror_mode": {
    "name": "ipython",
    "version": 3
   },
   "file_extension": ".py",
   "mimetype": "text/x-python",
   "name": "python",
   "nbconvert_exporter": "python",
   "pygments_lexer": "ipython3",
   "version": "3.9.12"
  }
 },
 "nbformat": 4,
 "nbformat_minor": 1
}
